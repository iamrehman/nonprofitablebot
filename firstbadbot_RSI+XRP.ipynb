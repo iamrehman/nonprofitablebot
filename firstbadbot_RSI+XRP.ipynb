{
 "cells": [
  {
   "cell_type": "code",
   "execution_count": 1,
   "id": "cb208ed6",
   "metadata": {},
   "outputs": [
    {
     "ename": "ModuleNotFoundError",
     "evalue": "No module named 'binance'",
     "output_type": "error",
     "traceback": [
      "\u001B[0;31m---------------------------------------------------------------------------\u001B[0m",
      "\u001B[0;31mModuleNotFoundError\u001B[0m                       Traceback (most recent call last)",
      "Input \u001B[0;32mIn [1]\u001B[0m, in \u001B[0;36m<cell line: 1>\u001B[0;34m()\u001B[0m\n\u001B[0;32m----> 1\u001B[0m \u001B[38;5;28;01mfrom\u001B[39;00m \u001B[38;5;21;01mbinance\u001B[39;00m\u001B[38;5;21;01m.\u001B[39;00m\u001B[38;5;21;01mclient\u001B[39;00m \u001B[38;5;28;01mimport\u001B[39;00m Client\n\u001B[1;32m      2\u001B[0m \u001B[38;5;28;01mimport\u001B[39;00m \u001B[38;5;21;01mpandas\u001B[39;00m \u001B[38;5;28;01mas\u001B[39;00m \u001B[38;5;21;01mpd\u001B[39;00m\n\u001B[1;32m      4\u001B[0m API_KEY \u001B[38;5;241m=\u001B[39m \u001B[38;5;124m'\u001B[39m\u001B[38;5;124m'\u001B[39m\n",
      "\u001B[0;31mModuleNotFoundError\u001B[0m: No module named 'binance'"
     ]
    }
   ],
   "source": [
    "from binance.client import Client\n",
    "import pandas as pd\n",
    "\n",
    "API_KEY = '452dc5d98173445e670b58738c260b472776498c15d0fa4bdce4a6f84833217d'\n",
    "API_SECRET = ''\n",
    "client = Client(API_KEY, API_SECRET)"
   ]
  },
  {
   "cell_type": "markdown",
   "source": [],
   "metadata": {
    "collapsed": false
   }
  },
  {
   "cell_type": "code",
   "execution_count": 1,
   "outputs": [],
   "source": [
    "import pandas as pd\n",
    "date_from = \"2023-01-01\"\n",
    "date_to = \"2023-03-31\"\n",
    "dates = pd.date_range(date_from, date_to).astype(str).str.replace(\"-\", \"\")"
   ],
   "metadata": {
    "collapsed": false,
    "pycharm": {
     "name": "#%%\n"
    }
   }
  },
  {
   "cell_type": "code",
   "execution_count": 2,
   "outputs": [],
   "source": [
    "import requests\n",
    "from os import path\n",
    "BASE_URL = \"https://s3-eu-west-1.amazonaws.com/public.bitmex.com/data/trade/%s\"\n",
    "\n",
    "def download_trade_file(filename, output_folder):\n",
    "    print(f\"Downloading {filename} file\")\n",
    "    url = BASE_URL % filename\n",
    "    resp = requests.get(url)\n",
    "    if resp.status_code != 200:\n",
    "        print(f\"Cannot download the {filename} file. Status code: {resp.status_code}\")\n",
    "        return\n",
    "    with open(path.join(output_folder, filename), \"wb\") as f:\n",
    "        f.write(resp.content)\n",
    "    print(f\"{filename} downloaded\")\n"
   ],
   "metadata": {
    "collapsed": false,
    "pycharm": {
     "name": "#%%\n"
    }
   }
  },
  {
   "cell_type": "code",
   "execution_count": 3,
   "outputs": [],
   "source": [
    "output_folder = \"data/bitmex\"\n",
    "# for date in dates:\n",
    "#     filename = date + \".csv.gz\"\n",
    "#     download_trade_file(filename, output_folder)"
   ],
   "metadata": {
    "collapsed": false,
    "pycharm": {
     "name": "#%%\n"
    }
   }
  },
  {
   "cell_type": "code",
   "execution_count": 4,
   "outputs": [
    {
     "data": {
      "text/plain": "['data/bitmex/20230201.csv.gz',\n 'data/bitmex/20230202.csv.gz',\n 'data/bitmex/20230203.csv.gz',\n 'data/bitmex/20230204.csv.gz',\n 'data/bitmex/20230205.csv.gz',\n 'data/bitmex/20230206.csv.gz',\n 'data/bitmex/20230207.csv.gz',\n 'data/bitmex/20230208.csv.gz',\n 'data/bitmex/20230209.csv.gz',\n 'data/bitmex/20230210.csv.gz',\n 'data/bitmex/20230211.csv.gz',\n 'data/bitmex/20230212.csv.gz',\n 'data/bitmex/20230213.csv.gz',\n 'data/bitmex/20230214.csv.gz',\n 'data/bitmex/20230215.csv.gz',\n 'data/bitmex/20230216.csv.gz',\n 'data/bitmex/20230217.csv.gz',\n 'data/bitmex/20230218.csv.gz',\n 'data/bitmex/20230219.csv.gz',\n 'data/bitmex/20230220.csv.gz',\n 'data/bitmex/20230221.csv.gz',\n 'data/bitmex/20230222.csv.gz',\n 'data/bitmex/20230223.csv.gz',\n 'data/bitmex/20230224.csv.gz',\n 'data/bitmex/20230225.csv.gz',\n 'data/bitmex/20230226.csv.gz',\n 'data/bitmex/20230227.csv.gz',\n 'data/bitmex/20230228.csv.gz',\n 'data/bitmex/20230301.csv.gz',\n 'data/bitmex/20230302.csv.gz',\n 'data/bitmex/20230303.csv.gz',\n 'data/bitmex/20230304.csv.gz',\n 'data/bitmex/20230305.csv.gz',\n 'data/bitmex/20230306.csv.gz',\n 'data/bitmex/20230307.csv.gz',\n 'data/bitmex/20230308.csv.gz',\n 'data/bitmex/20230309.csv.gz',\n 'data/bitmex/20230310.csv.gz',\n 'data/bitmex/20230311.csv.gz',\n 'data/bitmex/20230312.csv.gz',\n 'data/bitmex/20230313.csv.gz',\n 'data/bitmex/20230314.csv.gz',\n 'data/bitmex/20230315.csv.gz',\n 'data/bitmex/20230316.csv.gz',\n 'data/bitmex/20230317.csv.gz',\n 'data/bitmex/20230318.csv.gz',\n 'data/bitmex/20230319.csv.gz',\n 'data/bitmex/20230320.csv.gz',\n 'data/bitmex/20230321.csv.gz',\n 'data/bitmex/20230322.csv.gz',\n 'data/bitmex/20230323.csv.gz',\n 'data/bitmex/20230324.csv.gz',\n 'data/bitmex/20230325.csv.gz',\n 'data/bitmex/20230326.csv.gz',\n 'data/bitmex/20230327.csv.gz',\n 'data/bitmex/20230328.csv.gz',\n 'data/bitmex/20230329.csv.gz',\n 'data/bitmex/20230330.csv.gz',\n 'data/bitmex/20230331.csv.gz']"
     },
     "execution_count": 4,
     "metadata": {},
     "output_type": "execute_result"
    }
   ],
   "source": [
    "import glob\n",
    "filepaths = glob.glob(path.join(output_folder, \"*.csv.gz\"))\n",
    "filepaths = sorted(filepaths)\n",
    "filepaths"
   ],
   "metadata": {
    "collapsed": false,
    "pycharm": {
     "name": "#%%\n"
    }
   }
  },
  {
   "cell_type": "code",
   "execution_count": 5,
   "outputs": [
    {
     "name": "stdout",
     "output_type": "stream",
     "text": [
      "Reading data/bitmex/20230201.csv.gz\n",
      "Read 100624 rows\n",
      "Reading data/bitmex/20230202.csv.gz\n",
      "Read 109346 rows\n",
      "Reading data/bitmex/20230203.csv.gz\n",
      "Read 87251 rows\n",
      "Reading data/bitmex/20230204.csv.gz\n",
      "Read 41117 rows\n",
      "Reading data/bitmex/20230205.csv.gz\n",
      "Read 65611 rows\n",
      "Reading data/bitmex/20230206.csv.gz\n",
      "Read 78951 rows\n",
      "Reading data/bitmex/20230207.csv.gz\n",
      "Read 89560 rows\n",
      "Reading data/bitmex/20230208.csv.gz\n",
      "Read 70514 rows\n",
      "Reading data/bitmex/20230209.csv.gz\n",
      "Read 125656 rows\n",
      "Reading data/bitmex/20230210.csv.gz\n",
      "Read 72277 rows\n",
      "Reading data/bitmex/20230211.csv.gz\n",
      "Read 34197 rows\n",
      "Reading data/bitmex/20230212.csv.gz\n",
      "Read 48529 rows\n",
      "Reading data/bitmex/20230213.csv.gz\n",
      "Read 81154 rows\n",
      "Reading data/bitmex/20230214.csv.gz\n",
      "Read 93831 rows\n",
      "Reading data/bitmex/20230215.csv.gz\n",
      "Read 115725 rows\n",
      "Reading data/bitmex/20230216.csv.gz\n",
      "Read 145247 rows\n",
      "Reading data/bitmex/20230217.csv.gz\n",
      "Read 124235 rows\n",
      "Reading data/bitmex/20230218.csv.gz\n",
      "Read 49718 rows\n",
      "Reading data/bitmex/20230219.csv.gz\n",
      "Read 98133 rows\n",
      "Reading data/bitmex/20230220.csv.gz\n",
      "Read 121805 rows\n",
      "Reading data/bitmex/20230221.csv.gz\n",
      "Read 126494 rows\n",
      "Reading data/bitmex/20230222.csv.gz\n",
      "Read 143560 rows\n",
      "Reading data/bitmex/20230223.csv.gz\n",
      "Read 122791 rows\n",
      "Reading data/bitmex/20230224.csv.gz\n",
      "Read 109624 rows\n",
      "Reading data/bitmex/20230225.csv.gz\n",
      "Read 60396 rows\n",
      "Reading data/bitmex/20230226.csv.gz\n",
      "Read 70542 rows\n",
      "Reading data/bitmex/20230227.csv.gz\n",
      "Read 91681 rows\n",
      "Reading data/bitmex/20230228.csv.gz\n",
      "Read 72876 rows\n",
      "Reading data/bitmex/20230301.csv.gz\n",
      "Read 95607 rows\n",
      "Reading data/bitmex/20230302.csv.gz\n",
      "Read 70572 rows\n",
      "Reading data/bitmex/20230303.csv.gz\n",
      "Read 107684 rows\n",
      "Reading data/bitmex/20230304.csv.gz\n",
      "Read 37712 rows\n",
      "Reading data/bitmex/20230305.csv.gz\n",
      "Read 59452 rows\n",
      "Reading data/bitmex/20230306.csv.gz\n",
      "Read 62168 rows\n",
      "Reading data/bitmex/20230307.csv.gz\n",
      "Read 88329 rows\n",
      "Reading data/bitmex/20230308.csv.gz\n",
      "Read 82467 rows\n",
      "Reading data/bitmex/20230309.csv.gz\n",
      "Read 125698 rows\n",
      "Reading data/bitmex/20230310.csv.gz\n",
      "Read 145018 rows\n",
      "Reading data/bitmex/20230311.csv.gz\n",
      "Read 134874 rows\n",
      "Reading data/bitmex/20230312.csv.gz\n",
      "Read 140775 rows\n",
      "Reading data/bitmex/20230313.csv.gz\n",
      "Read 205175 rows\n",
      "Reading data/bitmex/20230314.csv.gz\n",
      "Read 217325 rows\n",
      "Reading data/bitmex/20230315.csv.gz\n",
      "Read 187926 rows\n",
      "Reading data/bitmex/20230316.csv.gz\n",
      "Read 134338 rows\n",
      "Reading data/bitmex/20230317.csv.gz\n",
      "Read 203280 rows\n",
      "Reading data/bitmex/20230318.csv.gz\n",
      "Read 121338 rows\n",
      "Reading data/bitmex/20230319.csv.gz\n",
      "Read 126273 rows\n",
      "Reading data/bitmex/20230320.csv.gz\n",
      "Read 181646 rows\n",
      "Reading data/bitmex/20230321.csv.gz\n",
      "Read 134512 rows\n",
      "Reading data/bitmex/20230322.csv.gz\n",
      "Read 175971 rows\n",
      "Reading data/bitmex/20230323.csv.gz\n",
      "Read 144723 rows\n",
      "Reading data/bitmex/20230324.csv.gz\n",
      "Read 142995 rows\n",
      "Reading data/bitmex/20230325.csv.gz\n",
      "Read 82510 rows\n",
      "Reading data/bitmex/20230326.csv.gz\n",
      "Read 78443 rows\n",
      "Reading data/bitmex/20230327.csv.gz\n",
      "Read 112226 rows\n",
      "Reading data/bitmex/20230328.csv.gz\n",
      "Read 105649 rows\n",
      "Reading data/bitmex/20230329.csv.gz\n",
      "Read 108458 rows\n",
      "Reading data/bitmex/20230330.csv.gz\n",
      "Read 121599 rows\n",
      "Reading data/bitmex/20230331.csv.gz\n",
      "Read 107680 rows\n"
     ]
    }
   ],
   "source": [
    "df_list = []\n",
    "for filepath in filepaths:\n",
    "    print(f\"Reading {filepath}\")\n",
    "    df_ = pd.read_csv(filepath)\n",
    "    df_ = df_[df_.symbol == \"XBTUSD\"]\n",
    "    print(f\"Read {df_.shape[0]} rows\")\n",
    "    df_list.append(df_)\n",
    "df = pd.concat(df_list)\n",
    "df_list = None\n",
    "df_ = None"
   ],
   "metadata": {
    "collapsed": false,
    "pycharm": {
     "name": "#%%\n"
    }
   }
  },
  {
   "cell_type": "code",
   "execution_count": 6,
   "outputs": [],
   "source": [
    "df.loc[:, \"Datetime\"] = pd.to_datetime(df.timestamp.str.replace(\"D\", \"T\"))\n",
    "df.drop(\"timestamp\", axis=1, inplace=True)"
   ],
   "metadata": {
    "collapsed": false,
    "pycharm": {
     "name": "#%%\n"
    }
   }
  },
  {
   "cell_type": "code",
   "execution_count": 7,
   "outputs": [],
   "source": [
    "df_test = df.copy()"
   ],
   "metadata": {
    "collapsed": false,
    "pycharm": {
     "name": "#%%\n"
    }
   }
  },
  {
   "cell_type": "code",
   "execution_count": 8,
   "outputs": [],
   "source": [
    "df = df.groupby(pd.Grouper(key=\"Datetime\", freq=\"15Min\")).agg(\n",
    "    {\"price\": [\"first\", \"max\", \"min\", \"last\"], \"foreignNotional\": \"sum\"}\n",
    ")\n",
    "df.columns = [\"Open\", \"High\", \"Low\", \"Close\", \"Volume\"]\n",
    "df.loc[:, \"OpenInterest\"] = 0.0 # required by backtrader\n",
    "df = df[df.Close.notnull()]\n",
    "df.reset_index(inplace=True)"
   ],
   "metadata": {
    "collapsed": false,
    "pycharm": {
     "name": "#%%\n"
    }
   }
  },
  {
   "cell_type": "code",
   "execution_count": 9,
   "outputs": [
    {
     "data": {
      "text/plain": "                Datetime     Open     High      Low    Close     Volume  \\\n0    2023-02-01 00:00:00  23114.0  23153.0  23029.5  23079.5  5107700.0   \n1    2023-02-01 00:15:00  23079.5  23079.5  23018.0  23028.0  2323600.0   \n2    2023-02-01 00:30:00  23028.0  23083.0  22986.5  23067.5  4325000.0   \n3    2023-02-01 00:45:00  23070.0  23101.5  23067.0  23070.5  1364700.0   \n4    2023-02-01 01:00:00  23070.0  23106.5  23070.0  23106.5  1443600.0   \n...                  ...      ...      ...      ...      ...        ...   \n5655 2023-03-31 22:45:00  28565.5  28590.5  28533.0  28564.5  1324400.0   \n5656 2023-03-31 23:00:00  28564.0  28585.0  28517.5  28517.5  2006100.0   \n5657 2023-03-31 23:15:00  28517.5  28544.5  28507.5  28543.0  1313700.0   \n5658 2023-03-31 23:30:00  28542.0  28545.0  28462.5  28467.0  1645500.0   \n5659 2023-03-31 23:45:00  28467.0  28495.5  28462.5  28462.5  1007700.0   \n\n      OpenInterest  \n0              0.0  \n1              0.0  \n2              0.0  \n3              0.0  \n4              0.0  \n...            ...  \n5655           0.0  \n5656           0.0  \n5657           0.0  \n5658           0.0  \n5659           0.0  \n\n[5660 rows x 7 columns]",
      "text/html": "<div>\n<style scoped>\n    .dataframe tbody tr th:only-of-type {\n        vertical-align: middle;\n    }\n\n    .dataframe tbody tr th {\n        vertical-align: top;\n    }\n\n    .dataframe thead th {\n        text-align: right;\n    }\n</style>\n<table border=\"1\" class=\"dataframe\">\n  <thead>\n    <tr style=\"text-align: right;\">\n      <th></th>\n      <th>Datetime</th>\n      <th>Open</th>\n      <th>High</th>\n      <th>Low</th>\n      <th>Close</th>\n      <th>Volume</th>\n      <th>OpenInterest</th>\n    </tr>\n  </thead>\n  <tbody>\n    <tr>\n      <th>0</th>\n      <td>2023-02-01 00:00:00</td>\n      <td>23114.0</td>\n      <td>23153.0</td>\n      <td>23029.5</td>\n      <td>23079.5</td>\n      <td>5107700.0</td>\n      <td>0.0</td>\n    </tr>\n    <tr>\n      <th>1</th>\n      <td>2023-02-01 00:15:00</td>\n      <td>23079.5</td>\n      <td>23079.5</td>\n      <td>23018.0</td>\n      <td>23028.0</td>\n      <td>2323600.0</td>\n      <td>0.0</td>\n    </tr>\n    <tr>\n      <th>2</th>\n      <td>2023-02-01 00:30:00</td>\n      <td>23028.0</td>\n      <td>23083.0</td>\n      <td>22986.5</td>\n      <td>23067.5</td>\n      <td>4325000.0</td>\n      <td>0.0</td>\n    </tr>\n    <tr>\n      <th>3</th>\n      <td>2023-02-01 00:45:00</td>\n      <td>23070.0</td>\n      <td>23101.5</td>\n      <td>23067.0</td>\n      <td>23070.5</td>\n      <td>1364700.0</td>\n      <td>0.0</td>\n    </tr>\n    <tr>\n      <th>4</th>\n      <td>2023-02-01 01:00:00</td>\n      <td>23070.0</td>\n      <td>23106.5</td>\n      <td>23070.0</td>\n      <td>23106.5</td>\n      <td>1443600.0</td>\n      <td>0.0</td>\n    </tr>\n    <tr>\n      <th>...</th>\n      <td>...</td>\n      <td>...</td>\n      <td>...</td>\n      <td>...</td>\n      <td>...</td>\n      <td>...</td>\n      <td>...</td>\n    </tr>\n    <tr>\n      <th>5655</th>\n      <td>2023-03-31 22:45:00</td>\n      <td>28565.5</td>\n      <td>28590.5</td>\n      <td>28533.0</td>\n      <td>28564.5</td>\n      <td>1324400.0</td>\n      <td>0.0</td>\n    </tr>\n    <tr>\n      <th>5656</th>\n      <td>2023-03-31 23:00:00</td>\n      <td>28564.0</td>\n      <td>28585.0</td>\n      <td>28517.5</td>\n      <td>28517.5</td>\n      <td>2006100.0</td>\n      <td>0.0</td>\n    </tr>\n    <tr>\n      <th>5657</th>\n      <td>2023-03-31 23:15:00</td>\n      <td>28517.5</td>\n      <td>28544.5</td>\n      <td>28507.5</td>\n      <td>28543.0</td>\n      <td>1313700.0</td>\n      <td>0.0</td>\n    </tr>\n    <tr>\n      <th>5658</th>\n      <td>2023-03-31 23:30:00</td>\n      <td>28542.0</td>\n      <td>28545.0</td>\n      <td>28462.5</td>\n      <td>28467.0</td>\n      <td>1645500.0</td>\n      <td>0.0</td>\n    </tr>\n    <tr>\n      <th>5659</th>\n      <td>2023-03-31 23:45:00</td>\n      <td>28467.0</td>\n      <td>28495.5</td>\n      <td>28462.5</td>\n      <td>28462.5</td>\n      <td>1007700.0</td>\n      <td>0.0</td>\n    </tr>\n  </tbody>\n</table>\n<p>5660 rows × 7 columns</p>\n</div>"
     },
     "execution_count": 9,
     "metadata": {},
     "output_type": "execute_result"
    }
   ],
   "source": [
    "df"
   ],
   "metadata": {
    "collapsed": false,
    "pycharm": {
     "name": "#%%\n"
    }
   }
  },
  {
   "cell_type": "code",
   "execution_count": 10,
   "id": "f69ad90d",
   "metadata": {},
   "outputs": [],
   "source": [
    "# def binanceDataFrame(klines):\n",
    "#     df = pd.DataFrame(klines,dtype=float, columns = ('Open Time',\n",
    "#                                                                     'open',\n",
    "#                                                                     'high',\n",
    "#                                                                     'low',\n",
    "#                                                                     'close',\n",
    "#                                                                     'volume',\n",
    "#                                                                     'Close time',\n",
    "#                                                                     'Quote asset volume',\n",
    "#                                                                     'Number of trades',\n",
    "#                                                                     'Taker buy base asset volume',\n",
    "#                                                                     'Taker buy quote asset volume',\n",
    "#                                                                     'Ignore'))\n",
    "#\n",
    "#     df['Open Time'] = pd.to_datetime(df['Open Time'], unit='ms')\n",
    "#     df = df.set_index('Open Time')\n",
    "#\n",
    "#     return df\n",
    "#\n",
    "# new_date_load = False\n",
    "# if new_date_load:\n",
    "#     candlesticks = client.get_historical_klines(\"XRPUSDT\", Client.KLINE_INTERVAL_5MINUTE, '2 years')#\"31 Aug, 2021\", \"1 Sep, 2021\")\n",
    "#     df = binanceDataFrame(candlesticks)\n",
    "# else:\n",
    "#\n",
    "#     df = pd.read_csv(\"xrp_sincejan5min.csv\")\n",
    "#     df['Open Time'] = pd.to_datetime(df['Open Time'])\n",
    "#     df = df.set_index('Open Time')\n",
    "\n"
   ]
  },
  {
   "cell_type": "code",
   "execution_count": 11,
   "id": "c2ffc7fc",
   "metadata": {},
   "outputs": [],
   "source": [
    "# df.to_csv(\"xrp_2year.csv\")"
   ]
  },
  {
   "cell_type": "code",
   "execution_count": 12,
   "id": "97f0379a",
   "metadata": {},
   "outputs": [],
   "source": [
    "import backtrader as bt\n",
    "import datetime as dt\n",
    "\n",
    "import backtrader as bt\n",
    "import backtrader.indicators as btind\n",
    "\n",
    "# #Add data feed to Cerebro\n",
    "data = bt.feeds.PandasData(dataname=df)\n"
   ]
  },
  {
   "cell_type": "code",
   "execution_count": 13,
   "id": "78dd507f",
   "metadata": {},
   "outputs": [],
   "source": [
    "from sklearn.linear_model import LinearRegression\n"
   ]
  },
  {
   "cell_type": "code",
   "execution_count": 13,
   "id": "614f1450",
   "metadata": {},
   "outputs": [],
   "source": []
  },
  {
   "cell_type": "code",
   "execution_count": 14,
   "id": "b2df2825",
   "metadata": {},
   "outputs": [],
   "source": [
    "def printTradeAnalysis(cerebro, analyzers):\n",
    "    print('Backtesting Results')\n",
    "    if hasattr(analyzers, 'ta'):\n",
    "        ta = analyzers.ta.get_analysis()\n",
    "\n",
    "        openTotal         = ta.total.open          \n",
    "        closedTotal       = ta.total.closed        \n",
    "        wonTotal          = ta.won.total           \n",
    "        lostTotal         = ta.lost.total          \n",
    "\n",
    "        streakWonLongest  = ta.streak.won.longest  \n",
    "        streakLostLongest = ta.streak.lost.longest \n",
    "\n",
    "        pnlNetTotal       = ta.pnl.net.total       \n",
    "        pnlNetAverage     = ta.pnl.net.average     \n",
    "\n",
    "        print('Open Positions', openTotal  )\n",
    "        print('Closed Trades',  closedTotal)\n",
    "        print('Winning Trades', wonTotal   )\n",
    "        print('Loosing Trades', lostTotal  )\n",
    "       \n",
    "\n",
    "        print('Longest Winning Streak',   streakWonLongest )\n",
    "        print('Longest Loosing Streak',   streakLostLongest)\n",
    "        print('Strike Rate (Win/closed)', (wonTotal / closedTotal) * 100 if wonTotal and closedTotal else 0)\n",
    "        \n",
    "\n",
    "#         print(format, 'Inital Portfolio Value', '${}'.format(100))\n",
    "        print( 'Final Portfolio Value',  '${}'.format(cerebro.broker.getvalue()))\n",
    "        print( 'Net P/L',                '${}'.format(round(pnlNetTotal,   2)) )\n",
    "        print( 'P/L Average per trade',  '${}'.format(round(pnlNetAverage, 2)))\n",
    "        print('\\n')\n",
    "\n",
    "    if hasattr(analyzers, 'drawdown'):\n",
    "        print('Drawdown', '${}'.format(analyzers.drawdown.get_analysis()['drawdown']))\n",
    "    if hasattr(analyzers, 'sharpe'):\n",
    "        print( 'Sharpe Ratio:', analyzers.sharpe.get_analysis()['sharperatio'])\n",
    "    if print(analyzers, 'vwr'):\n",
    "        print( 'VRW', analyzers.vwr.get_analysis()['vwr'])\n",
    "    if hasattr(analyzers, 'sqn'):\n",
    "        print( 'SQN', analyzers.sqn.get_analysis()['sqn'])\n",
    "    print('\\n')\n",
    "\n",
    "    print('Transactions')\n",
    "    print( 'Date', 'Amount', 'Price', 'SID', 'Symbol', 'Value')\n",
    "    for key, value in analyzers.txn.get_analysis().items():\n",
    "        print( key.strftime(\"%Y/%m/%d %H:%M:%S\"), value[0][0], value[0][1], value[0][2], value[0][3], value[0][4])\n"
   ]
  },
  {
   "cell_type": "code",
   "execution_count": 15,
   "id": "63976815",
   "metadata": {
    "scrolled": true
   },
   "outputs": [],
   "source": [
    "\"\"\"\n",
    "Defines class / functions tools for strategies.\n",
    "\"\"\"\n",
    "import backtrader as bt\n",
    "\n"
   ]
  },
  {
   "cell_type": "code",
   "execution_count": 144,
   "id": "225d6b25",
   "metadata": {},
   "outputs": [],
   "source": [
    "\n",
    "class firstStrategy(bt.Strategy):\n",
    "    params = (\n",
    "        ('rsi_period',14),\n",
    "        ('fast_rsi_period',8),\n",
    "        ('ema_period',13),\n",
    "        ('stop_loss',1),\n",
    "        ('ema1',20),\n",
    "        ('ema2',50),\n",
    "        ('ema3',200),\n",
    "\n",
    "    )\n",
    "    def __init__(self):\n",
    "        self.startcash = self.broker.getvalue()\n",
    "        self.rsi = bt.indicators.RSI(self.data.close, period=self.params.rsi_period)\n",
    "        self.rsi_fast = bt.indicators.RSI(self.data.close, period=8)\n",
    "        self.ema1 = bt.indicators.EMA(self.data.close, period=self.params.ema1) \n",
    "        self.ema2 = bt.indicators.EMA(self.data.close, period=self.params.ema2) \n",
    "\n",
    "        self.ema3 = bt.indicators.EMA(self.data.close, period=self.params.ema3) \n",
    "\n",
    "\n",
    "        self.o_li = list()\n",
    "\n",
    "        # To keep track of pending orders\n",
    "        self.order = None  \n",
    "        self.stopOrder = None\n",
    "\n",
    "    def log(self, txt, dt=None):\n",
    "        ''' Logging function for this strategy'''\n",
    "#         dt = dt or self.datas[0].datetime.datetime(0)\n",
    "# #         print('%s, %s' % (dt.isoformat(), txt))\n",
    "    def notify_trade(self, trade):\n",
    "        if not trade.isclosed:\n",
    "            return\n",
    "\n",
    "#         self.log(\"OPERATION PROFIT, GROSS %.2f, NET %.2f\" % (trade.pnl, trade.pnlcomm))\n",
    "        \n",
    "\n",
    "    def notify_order(self, order):\n",
    "        if order.status in [order.Submitted, order.Accepted]:\n",
    "            # An active Buy/Sell order has been submitted/accepted - Nothing to do\n",
    "            return\n",
    "\n",
    "        # Check if an order has been completed\n",
    "        # Attention: broker could reject order if not enough cash\n",
    "\n",
    "        if order.status in [order.Completed]:\n",
    "#             if order.isbuy():\n",
    "#                 self.log(f'BUY EXECUTED, {order.executed.price:.5f}')\n",
    "# #                 stop_price = order.executed.price * (1.0 - self.params.stop_loss)\n",
    "# #                 self.sell(exectype=bt.Order.Stop, price=stop_price)\n",
    "#             elif order.issell():\n",
    "#                 self.log(f'SELL EXECUTED, {order.executed.price:.5f}')\n",
    "#                 self.log\n",
    "            self.bar_executed = len(self)\n",
    "\n",
    "        \n",
    "    def next(self):\n",
    "\n",
    "        if not self.position:\n",
    "            if self.rsi<30 and self.ema2>self.ema3:\n",
    "                size = 1000/self.datas[0].close[0]\n",
    "\n",
    "                self.order = self.buy(price=(self.datas[0].close[0]),exectype=bt.Order.Market,size=size)\n",
    "#             if self.rsi>70 and self.order.Completed:\n",
    "#                 self.order = self.sell(price=(self.datas[0].close[0]),exectype=bt.Order.Market,size=1000)\n",
    "\n",
    "        else:\n",
    "            if self.order and (self.data.close - self.order.price)!=0.0:\n",
    "                change = (self.data.close - self.order.price)/self.order.price\n",
    "                if change>0.04 or change<-0.02:\n",
    "#                     print(\"selling at change:\", change)\n",
    "                    self.sell()\n",
    "\n",
    "    def stop(self):\n",
    "        pnl = round(self.broker.getvalue() - 2000,2)\n",
    "        print('RSI Period: {} EMA1: {} EMA2 : {} EMA3: {} Final PnL: {}'.format(\n",
    "            self.params.rsi_period, self.params.ema1,self.params.ema2,self.params.ema3,pnl))"
   ]
  },
  {
   "cell_type": "markdown",
   "source": [],
   "metadata": {
    "collapsed": false
   }
  },
  {
   "cell_type": "code",
   "execution_count": 145,
   "outputs": [],
   "source": [
    "class MyStrategy(bt.Strategy):\n",
    "\n",
    "\n",
    "    params = (\n",
    "        ('verbose', 1),\n",
    "        ('maperiod', 14),\n",
    "        ('quantity', .01),\n",
    "        ('upper', 70),         # upper threshold\n",
    "        ('lower', 30),         # lower threshold\n",
    "        ('stopLoss', 0.01)          # stop loss %\n",
    "    )\n",
    "    def __init__(self):\n",
    "        self.rsi = bt.indicators.RSI(self.data.close, period=14)\n",
    "        self.order = None\n",
    "        self.size = None\n",
    "\n",
    "        # Set the sizer to use the entire portfolio\n",
    "        self.broker.setcommission(commission=0.0)\n",
    "        # self.sizer = bt.sizers.PercentSizer(percents=100)\n",
    "\n",
    "    def log(self, txt, dt=None):\n",
    "        ''' Logging function for this strategy'''\n",
    "        dt = dt or self.datas[0].datetime.date(0)\n",
    "        print(f'{dt.isoformat()}, {txt}')\n",
    "\n",
    "    def next(self):\n",
    "\n",
    "        # Check if an order is pending ... if yes, we cannot send a 2nd one\n",
    "        if self.order:\n",
    "            return\n",
    "\n",
    "        # Check if we are in the market\n",
    "        if not self.position:\n",
    "\n",
    "            # Not yet ... we MIGHT BUY if ...\n",
    "            if self.rsi < 25:\n",
    "\n",
    "                # Keep track of the created order to avoid a 2nd order\n",
    "                self.amount = (self.broker.getvalue()*100) / self.datas[0].close[0]\n",
    "                self.order = self.buy()\n",
    "\n",
    "        else:\n",
    "            # Already in the market ... we might sell\n",
    "            if self.rsi > 60:\n",
    "\n",
    "                # Keep track of the created order to avoid a 2nd order\n",
    "                self.order = self.sell()\n",
    "\n",
    "\n",
    "    def notify_order(self, order):\n",
    "        if order.status in [order.Submitted, order.Accepted]:\n",
    "            # Buy/Sell order submitted/accepted to/by broker\n",
    "            return\n",
    "\n",
    "        # Check if an order has been completed\n",
    "        # Attention: broker could reject order if not enough cash\n",
    "        if order.status in [order.Completed]:\n",
    "            if order.isbuy():\n",
    "                self.buyprice = order.executed.price\n",
    "                self.buycomm = order.executed.comm\n",
    "\n",
    "                if self.params.verbose:\n",
    "                    print('BOUGHT @price: {:.2f} {}'.format(order.executed.price, bt.num2date(order.executed.dt)))\n",
    "                if self.params.stopLoss:\n",
    "                    if self.params.stopLoss > 0:\n",
    "                        stop_price = order.executed.price * (1 - self.params.stopLoss)\n",
    "                        self.order_stopLoss = self.sell(exectype=bt.Order.Stop, price=stop_price)\n",
    "                        if self.params.verbose:\n",
    "                            print('  STOP @price: {:.2f}'.format(stop_price))\n",
    "                    else:\n",
    "                        # trailing stop specified % under executed price\n",
    "                        self.order_stopLoss = self.sell(exectype=bt.Order.StopTrail, trailpercent=0-self.params.stopLoss)\n",
    "                        self.order_stopLoss.addinfo(ordername=\"STOPLONG\")\n",
    "                        if self.params.verbose:\n",
    "                            print('  STOP TRAILING')\n",
    "\n",
    "            else:\n",
    "                if not self.position:  # we left the market\n",
    "                    self.broker.cancel(self.order_stopLoss)\n",
    "                    self.order_stopLoss = None\n",
    "                    if self.params.verbose:\n",
    "                        print('SOLD @price: {:.2f} cost: {:.2f} comm: {:.2f} {}'.format(order.executed.price, order.executed.value, order.executed.comm, bt.num2date(order.executed.dt)))\n",
    "\n",
    "    def notify_trade(self, trade):\n",
    "        if not trade.isclosed:\n",
    "            return\n",
    "\n",
    "        self.log('OPERATION PROFIT, GROSS {:.2f}, NET {:.2f}'.format(\n",
    "            trade.pnl, trade.pnlcomm))\n"
   ],
   "metadata": {
    "collapsed": false,
    "pycharm": {
     "name": "#%%\n"
    }
   }
  },
  {
   "cell_type": "code",
   "execution_count": 146,
   "outputs": [],
   "source": [
    "\n",
    "# Create a cerebro entity\n",
    "cerebro = bt.Cerebro()\n",
    "\n",
    "# Add a FixedSize sizer according to the stake\n",
    "cerebro.addsizer(bt.sizers.FixedSize, stake=1) # Multiply the stake by X\n",
    "\n",
    "cerebro.broker.setcash(1000)\n",
    "\n",
    "# if commission_val:\n",
    "#     cerebro.broker.setcommission(commission=commission_val/100)\n",
    "\n",
    "\n"
   ],
   "metadata": {
    "collapsed": false,
    "pycharm": {
     "name": "#%%\n"
    }
   }
  },
  {
   "cell_type": "code",
   "execution_count": 147,
   "outputs": [
    {
     "ename": "KeyError",
     "evalue": "'Datetime'",
     "output_type": "error",
     "traceback": [
      "\u001B[0;31m---------------------------------------------------------------------------\u001B[0m",
      "\u001B[0;31mKeyError\u001B[0m                                  Traceback (most recent call last)",
      "File \u001B[0;32m~/.conda/envs/test_project/lib/python3.9/site-packages/pandas/core/indexes/base.py:3621\u001B[0m, in \u001B[0;36mIndex.get_loc\u001B[0;34m(self, key, method, tolerance)\u001B[0m\n\u001B[1;32m   3620\u001B[0m \u001B[38;5;28;01mtry\u001B[39;00m:\n\u001B[0;32m-> 3621\u001B[0m     \u001B[38;5;28;01mreturn\u001B[39;00m \u001B[38;5;28;43mself\u001B[39;49m\u001B[38;5;241;43m.\u001B[39;49m\u001B[43m_engine\u001B[49m\u001B[38;5;241;43m.\u001B[39;49m\u001B[43mget_loc\u001B[49m\u001B[43m(\u001B[49m\u001B[43mcasted_key\u001B[49m\u001B[43m)\u001B[49m\n\u001B[1;32m   3622\u001B[0m \u001B[38;5;28;01mexcept\u001B[39;00m \u001B[38;5;167;01mKeyError\u001B[39;00m \u001B[38;5;28;01mas\u001B[39;00m err:\n",
      "File \u001B[0;32m~/.conda/envs/test_project/lib/python3.9/site-packages/pandas/_libs/index.pyx:136\u001B[0m, in \u001B[0;36mpandas._libs.index.IndexEngine.get_loc\u001B[0;34m()\u001B[0m\n",
      "File \u001B[0;32m~/.conda/envs/test_project/lib/python3.9/site-packages/pandas/_libs/index.pyx:163\u001B[0m, in \u001B[0;36mpandas._libs.index.IndexEngine.get_loc\u001B[0;34m()\u001B[0m\n",
      "File \u001B[0;32mpandas/_libs/hashtable_class_helper.pxi:5198\u001B[0m, in \u001B[0;36mpandas._libs.hashtable.PyObjectHashTable.get_item\u001B[0;34m()\u001B[0m\n",
      "File \u001B[0;32mpandas/_libs/hashtable_class_helper.pxi:5206\u001B[0m, in \u001B[0;36mpandas._libs.hashtable.PyObjectHashTable.get_item\u001B[0;34m()\u001B[0m\n",
      "\u001B[0;31mKeyError\u001B[0m: 'Datetime'",
      "\nThe above exception was the direct cause of the following exception:\n",
      "\u001B[0;31mKeyError\u001B[0m                                  Traceback (most recent call last)",
      "Input \u001B[0;32mIn [147]\u001B[0m, in \u001B[0;36m<cell line: 7>\u001B[0;34m()\u001B[0m\n\u001B[1;32m      5\u001B[0m     columns \u001B[38;5;241m=\u001B[39m (\u001B[38;5;124m'\u001B[39m\u001B[38;5;124mOpen\u001B[39m\u001B[38;5;124m'\u001B[39m, \u001B[38;5;124m'\u001B[39m\u001B[38;5;124mHigh\u001B[39m\u001B[38;5;124m'\u001B[39m, \u001B[38;5;124m'\u001B[39m\u001B[38;5;124mLow\u001B[39m\u001B[38;5;124m'\u001B[39m, \u001B[38;5;124m'\u001B[39m\u001B[38;5;124mClose\u001B[39m\u001B[38;5;124m'\u001B[39m, \u001B[38;5;124m'\u001B[39m\u001B[38;5;124mVolume\u001B[39m\u001B[38;5;124m'\u001B[39m, \u001B[38;5;124m'\u001B[39m\u001B[38;5;124mOpenInterest\u001B[39m\u001B[38;5;124m'\u001B[39m)\n\u001B[1;32m      6\u001B[0m \u001B[38;5;66;03m# Convert the datetime column to a timestamp object\u001B[39;00m\n\u001B[0;32m----> 7\u001B[0m df[\u001B[38;5;124m'\u001B[39m\u001B[38;5;124mdatetime\u001B[39m\u001B[38;5;124m'\u001B[39m] \u001B[38;5;241m=\u001B[39m pd\u001B[38;5;241m.\u001B[39mto_datetime(\u001B[43mdf\u001B[49m\u001B[43m[\u001B[49m\u001B[38;5;124;43m'\u001B[39;49m\u001B[38;5;124;43mDatetime\u001B[39;49m\u001B[38;5;124;43m'\u001B[39;49m\u001B[43m]\u001B[49m)\n",
      "File \u001B[0;32m~/.conda/envs/test_project/lib/python3.9/site-packages/pandas/core/frame.py:3505\u001B[0m, in \u001B[0;36mDataFrame.__getitem__\u001B[0;34m(self, key)\u001B[0m\n\u001B[1;32m   3503\u001B[0m \u001B[38;5;28;01mif\u001B[39;00m \u001B[38;5;28mself\u001B[39m\u001B[38;5;241m.\u001B[39mcolumns\u001B[38;5;241m.\u001B[39mnlevels \u001B[38;5;241m>\u001B[39m \u001B[38;5;241m1\u001B[39m:\n\u001B[1;32m   3504\u001B[0m     \u001B[38;5;28;01mreturn\u001B[39;00m \u001B[38;5;28mself\u001B[39m\u001B[38;5;241m.\u001B[39m_getitem_multilevel(key)\n\u001B[0;32m-> 3505\u001B[0m indexer \u001B[38;5;241m=\u001B[39m \u001B[38;5;28;43mself\u001B[39;49m\u001B[38;5;241;43m.\u001B[39;49m\u001B[43mcolumns\u001B[49m\u001B[38;5;241;43m.\u001B[39;49m\u001B[43mget_loc\u001B[49m\u001B[43m(\u001B[49m\u001B[43mkey\u001B[49m\u001B[43m)\u001B[49m\n\u001B[1;32m   3506\u001B[0m \u001B[38;5;28;01mif\u001B[39;00m is_integer(indexer):\n\u001B[1;32m   3507\u001B[0m     indexer \u001B[38;5;241m=\u001B[39m [indexer]\n",
      "File \u001B[0;32m~/.conda/envs/test_project/lib/python3.9/site-packages/pandas/core/indexes/base.py:3623\u001B[0m, in \u001B[0;36mIndex.get_loc\u001B[0;34m(self, key, method, tolerance)\u001B[0m\n\u001B[1;32m   3621\u001B[0m     \u001B[38;5;28;01mreturn\u001B[39;00m \u001B[38;5;28mself\u001B[39m\u001B[38;5;241m.\u001B[39m_engine\u001B[38;5;241m.\u001B[39mget_loc(casted_key)\n\u001B[1;32m   3622\u001B[0m \u001B[38;5;28;01mexcept\u001B[39;00m \u001B[38;5;167;01mKeyError\u001B[39;00m \u001B[38;5;28;01mas\u001B[39;00m err:\n\u001B[0;32m-> 3623\u001B[0m     \u001B[38;5;28;01mraise\u001B[39;00m \u001B[38;5;167;01mKeyError\u001B[39;00m(key) \u001B[38;5;28;01mfrom\u001B[39;00m \u001B[38;5;21;01merr\u001B[39;00m\n\u001B[1;32m   3624\u001B[0m \u001B[38;5;28;01mexcept\u001B[39;00m \u001B[38;5;167;01mTypeError\u001B[39;00m:\n\u001B[1;32m   3625\u001B[0m     \u001B[38;5;66;03m# If we have a listlike key, _check_indexing_error will raise\u001B[39;00m\n\u001B[1;32m   3626\u001B[0m     \u001B[38;5;66;03m#  InvalidIndexError. Otherwise we fall through and re-raise\u001B[39;00m\n\u001B[1;32m   3627\u001B[0m     \u001B[38;5;66;03m#  the TypeError.\u001B[39;00m\n\u001B[1;32m   3628\u001B[0m     \u001B[38;5;28mself\u001B[39m\u001B[38;5;241m.\u001B[39m_check_indexing_error(key)\n",
      "\u001B[0;31mKeyError\u001B[0m: 'Datetime'"
     ]
    }
   ],
   "source": [
    "class PandasData(bt.feeds.PandasData):\n",
    "    \"\"\"\n",
    "    Define the PandasData feed to work with the DataFrame columns.\n",
    "    \"\"\"\n",
    "    columns = ('Open', 'High', 'Low', 'Close', 'Volume', 'OpenInterest')\n",
    "# Convert the datetime column to a timestamp object\n",
    "df['datetime'] = pd.to_datetime(df['Datetime'])\n"
   ],
   "metadata": {
    "collapsed": false,
    "pycharm": {
     "name": "#%%\n"
    }
   }
  },
  {
   "cell_type": "code",
   "execution_count": 148,
   "outputs": [
    {
     "ename": "KeyError",
     "evalue": "\"None of ['Datetime'] are in the columns\"",
     "output_type": "error",
     "traceback": [
      "\u001B[0;31m---------------------------------------------------------------------------\u001B[0m",
      "\u001B[0;31mKeyError\u001B[0m                                  Traceback (most recent call last)",
      "Input \u001B[0;32mIn [148]\u001B[0m, in \u001B[0;36m<cell line: 1>\u001B[0;34m()\u001B[0m\n\u001B[0;32m----> 1\u001B[0m \u001B[43mdf\u001B[49m\u001B[38;5;241;43m.\u001B[39;49m\u001B[43mset_index\u001B[49m\u001B[43m(\u001B[49m\u001B[38;5;124;43m'\u001B[39;49m\u001B[38;5;124;43mDatetime\u001B[39;49m\u001B[38;5;124;43m'\u001B[39;49m\u001B[43m,\u001B[49m\u001B[43m \u001B[49m\u001B[43minplace\u001B[49m\u001B[38;5;241;43m=\u001B[39;49m\u001B[38;5;28;43;01mTrue\u001B[39;49;00m\u001B[43m)\u001B[49m\n",
      "File \u001B[0;32m~/.conda/envs/test_project/lib/python3.9/site-packages/pandas/util/_decorators.py:311\u001B[0m, in \u001B[0;36mdeprecate_nonkeyword_arguments.<locals>.decorate.<locals>.wrapper\u001B[0;34m(*args, **kwargs)\u001B[0m\n\u001B[1;32m    305\u001B[0m \u001B[38;5;28;01mif\u001B[39;00m \u001B[38;5;28mlen\u001B[39m(args) \u001B[38;5;241m>\u001B[39m num_allow_args:\n\u001B[1;32m    306\u001B[0m     warnings\u001B[38;5;241m.\u001B[39mwarn(\n\u001B[1;32m    307\u001B[0m         msg\u001B[38;5;241m.\u001B[39mformat(arguments\u001B[38;5;241m=\u001B[39marguments),\n\u001B[1;32m    308\u001B[0m         \u001B[38;5;167;01mFutureWarning\u001B[39;00m,\n\u001B[1;32m    309\u001B[0m         stacklevel\u001B[38;5;241m=\u001B[39mstacklevel,\n\u001B[1;32m    310\u001B[0m     )\n\u001B[0;32m--> 311\u001B[0m \u001B[38;5;28;01mreturn\u001B[39;00m \u001B[43mfunc\u001B[49m\u001B[43m(\u001B[49m\u001B[38;5;241;43m*\u001B[39;49m\u001B[43margs\u001B[49m\u001B[43m,\u001B[49m\u001B[43m \u001B[49m\u001B[38;5;241;43m*\u001B[39;49m\u001B[38;5;241;43m*\u001B[39;49m\u001B[43mkwargs\u001B[49m\u001B[43m)\u001B[49m\n",
      "File \u001B[0;32m~/.conda/envs/test_project/lib/python3.9/site-packages/pandas/core/frame.py:5500\u001B[0m, in \u001B[0;36mDataFrame.set_index\u001B[0;34m(self, keys, drop, append, inplace, verify_integrity)\u001B[0m\n\u001B[1;32m   5497\u001B[0m                 missing\u001B[38;5;241m.\u001B[39mappend(col)\n\u001B[1;32m   5499\u001B[0m \u001B[38;5;28;01mif\u001B[39;00m missing:\n\u001B[0;32m-> 5500\u001B[0m     \u001B[38;5;28;01mraise\u001B[39;00m \u001B[38;5;167;01mKeyError\u001B[39;00m(\u001B[38;5;124mf\u001B[39m\u001B[38;5;124m\"\u001B[39m\u001B[38;5;124mNone of \u001B[39m\u001B[38;5;132;01m{\u001B[39;00mmissing\u001B[38;5;132;01m}\u001B[39;00m\u001B[38;5;124m are in the columns\u001B[39m\u001B[38;5;124m\"\u001B[39m)\n\u001B[1;32m   5502\u001B[0m \u001B[38;5;28;01mif\u001B[39;00m inplace:\n\u001B[1;32m   5503\u001B[0m     frame \u001B[38;5;241m=\u001B[39m \u001B[38;5;28mself\u001B[39m\n",
      "\u001B[0;31mKeyError\u001B[0m: \"None of ['Datetime'] are in the columns\""
     ]
    }
   ],
   "source": [
    "df.set_index('Datetime', inplace=True)\n"
   ],
   "metadata": {
    "collapsed": false,
    "pycharm": {
     "name": "#%%\n"
    }
   }
  },
  {
   "cell_type": "code",
   "execution_count": 148,
   "outputs": [],
   "source": [],
   "metadata": {
    "collapsed": false,
    "pycharm": {
     "name": "#%%\n"
    }
   }
  },
  {
   "cell_type": "code",
   "execution_count": 150,
   "id": "756608c4",
   "metadata": {
    "scrolled": true
   },
   "outputs": [
    {
     "name": "stdout",
     "output_type": "stream",
     "text": [
      "RSI Period: 21 EMA1: 20 EMA2 : 100 EMA3: 200 Final PnL: -16041530.75\n"
     ]
    },
    {
     "ename": "ZeroDivisionError",
     "evalue": "float division by zero",
     "output_type": "error",
     "traceback": [
      "\u001B[0;31m---------------------------------------------------------------------------\u001B[0m",
      "\u001B[0;31mZeroDivisionError\u001B[0m                         Traceback (most recent call last)",
      "Input \u001B[0;32mIn [150]\u001B[0m, in \u001B[0;36m<cell line: 45>\u001B[0;34m()\u001B[0m\n\u001B[1;32m     43\u001B[0m cerebro\u001B[38;5;241m.\u001B[39maddanalyzer(bt\u001B[38;5;241m.\u001B[39manalyzers\u001B[38;5;241m.\u001B[39mTransactions, _name\u001B[38;5;241m=\u001B[39m\u001B[38;5;124m'\u001B[39m\u001B[38;5;124mtxn\u001B[39m\u001B[38;5;124m'\u001B[39m)\n\u001B[1;32m     44\u001B[0m \u001B[38;5;66;03m# # Run our Backtest\u001B[39;00m\n\u001B[0;32m---> 45\u001B[0m backtest \u001B[38;5;241m=\u001B[39m \u001B[43mcerebro\u001B[49m\u001B[38;5;241;43m.\u001B[39;49m\u001B[43mrun\u001B[49m\u001B[43m(\u001B[49m\u001B[43m)\u001B[49m\n\u001B[1;32m     46\u001B[0m backtest_results \u001B[38;5;241m=\u001B[39m backtest[\u001B[38;5;241m0\u001B[39m]\n",
      "File \u001B[0;32m~/.conda/envs/test_project/lib/python3.9/site-packages/backtrader/cerebro.py:1127\u001B[0m, in \u001B[0;36mCerebro.run\u001B[0;34m(self, **kwargs)\u001B[0m\n\u001B[1;32m   1123\u001B[0m \u001B[38;5;28;01mif\u001B[39;00m \u001B[38;5;129;01mnot\u001B[39;00m \u001B[38;5;28mself\u001B[39m\u001B[38;5;241m.\u001B[39m_dooptimize \u001B[38;5;129;01mor\u001B[39;00m \u001B[38;5;28mself\u001B[39m\u001B[38;5;241m.\u001B[39mp\u001B[38;5;241m.\u001B[39mmaxcpus \u001B[38;5;241m==\u001B[39m \u001B[38;5;241m1\u001B[39m:\n\u001B[1;32m   1124\u001B[0m     \u001B[38;5;66;03m# If no optimmization is wished ... or 1 core is to be used\u001B[39;00m\n\u001B[1;32m   1125\u001B[0m     \u001B[38;5;66;03m# let's skip process \"spawning\"\u001B[39;00m\n\u001B[1;32m   1126\u001B[0m     \u001B[38;5;28;01mfor\u001B[39;00m iterstrat \u001B[38;5;129;01min\u001B[39;00m iterstrats:\n\u001B[0;32m-> 1127\u001B[0m         runstrat \u001B[38;5;241m=\u001B[39m \u001B[38;5;28;43mself\u001B[39;49m\u001B[38;5;241;43m.\u001B[39;49m\u001B[43mrunstrategies\u001B[49m\u001B[43m(\u001B[49m\u001B[43miterstrat\u001B[49m\u001B[43m)\u001B[49m\n\u001B[1;32m   1128\u001B[0m         \u001B[38;5;28mself\u001B[39m\u001B[38;5;241m.\u001B[39mrunstrats\u001B[38;5;241m.\u001B[39mappend(runstrat)\n\u001B[1;32m   1129\u001B[0m         \u001B[38;5;28;01mif\u001B[39;00m \u001B[38;5;28mself\u001B[39m\u001B[38;5;241m.\u001B[39m_dooptimize:\n",
      "File \u001B[0;32m~/.conda/envs/test_project/lib/python3.9/site-packages/backtrader/cerebro.py:1301\u001B[0m, in \u001B[0;36mCerebro.runstrategies\u001B[0;34m(self, iterstrat, predata)\u001B[0m\n\u001B[1;32m   1298\u001B[0m             \u001B[38;5;28mself\u001B[39m\u001B[38;5;241m.\u001B[39m_runnext(runstrats)\n\u001B[1;32m   1300\u001B[0m     \u001B[38;5;28;01mfor\u001B[39;00m strat \u001B[38;5;129;01min\u001B[39;00m runstrats:\n\u001B[0;32m-> 1301\u001B[0m         \u001B[43mstrat\u001B[49m\u001B[38;5;241;43m.\u001B[39;49m\u001B[43m_stop\u001B[49m\u001B[43m(\u001B[49m\u001B[43m)\u001B[49m\n\u001B[1;32m   1303\u001B[0m \u001B[38;5;28mself\u001B[39m\u001B[38;5;241m.\u001B[39m_broker\u001B[38;5;241m.\u001B[39mstop()\n\u001B[1;32m   1305\u001B[0m \u001B[38;5;28;01mif\u001B[39;00m \u001B[38;5;129;01mnot\u001B[39;00m predata:\n",
      "File \u001B[0;32m~/.conda/envs/test_project/lib/python3.9/site-packages/backtrader/strategy.py:486\u001B[0m, in \u001B[0;36mStrategy._stop\u001B[0;34m(self)\u001B[0m\n\u001B[1;32m    483\u001B[0m \u001B[38;5;28mself\u001B[39m\u001B[38;5;241m.\u001B[39mstop()\n\u001B[1;32m    485\u001B[0m \u001B[38;5;28;01mfor\u001B[39;00m analyzer \u001B[38;5;129;01min\u001B[39;00m itertools\u001B[38;5;241m.\u001B[39mchain(\u001B[38;5;28mself\u001B[39m\u001B[38;5;241m.\u001B[39manalyzers, \u001B[38;5;28mself\u001B[39m\u001B[38;5;241m.\u001B[39m_slave_analyzers):\n\u001B[0;32m--> 486\u001B[0m     \u001B[43manalyzer\u001B[49m\u001B[38;5;241;43m.\u001B[39;49m\u001B[43m_stop\u001B[49m\u001B[43m(\u001B[49m\u001B[43m)\u001B[49m\n\u001B[1;32m    488\u001B[0m \u001B[38;5;66;03m# change operators back to stage 1 - allows reuse of datas\u001B[39;00m\n\u001B[1;32m    489\u001B[0m \u001B[38;5;28mself\u001B[39m\u001B[38;5;241m.\u001B[39m_stage1()\n",
      "File \u001B[0;32m~/.conda/envs/test_project/lib/python3.9/site-packages/backtrader/analyzer.py:200\u001B[0m, in \u001B[0;36mAnalyzer._stop\u001B[0;34m(self)\u001B[0m\n\u001B[1;32m    197\u001B[0m \u001B[38;5;28;01mfor\u001B[39;00m child \u001B[38;5;129;01min\u001B[39;00m \u001B[38;5;28mself\u001B[39m\u001B[38;5;241m.\u001B[39m_children:\n\u001B[1;32m    198\u001B[0m     child\u001B[38;5;241m.\u001B[39m_stop()\n\u001B[0;32m--> 200\u001B[0m \u001B[38;5;28;43mself\u001B[39;49m\u001B[38;5;241;43m.\u001B[39;49m\u001B[43mstop\u001B[49m\u001B[43m(\u001B[49m\u001B[43m)\u001B[49m\n",
      "File \u001B[0;32m~/.conda/envs/test_project/lib/python3.9/site-packages/backtrader/analyzers/vwr.py:154\u001B[0m, in \u001B[0;36mVWR.stop\u001B[0;34m(self)\u001B[0m\n\u001B[1;32m    151\u001B[0m \u001B[38;5;28;01mfor\u001B[39;00m n, pipn \u001B[38;5;129;01min\u001B[39;00m \u001B[38;5;28menumerate\u001B[39m(\u001B[38;5;28mzip\u001B[39m(\u001B[38;5;28mself\u001B[39m\u001B[38;5;241m.\u001B[39m_pis, \u001B[38;5;28mself\u001B[39m\u001B[38;5;241m.\u001B[39m_pns), \u001B[38;5;241m1\u001B[39m):\n\u001B[1;32m    152\u001B[0m     pi, pn \u001B[38;5;241m=\u001B[39m pipn\n\u001B[0;32m--> 154\u001B[0m     dt \u001B[38;5;241m=\u001B[39m \u001B[43mpn\u001B[49m\u001B[43m \u001B[49m\u001B[38;5;241;43m/\u001B[39;49m\u001B[43m \u001B[49m\u001B[43m(\u001B[49m\u001B[43mpi\u001B[49m\u001B[43m \u001B[49m\u001B[38;5;241;43m*\u001B[39;49m\u001B[43m \u001B[49m\u001B[43mmath\u001B[49m\u001B[38;5;241;43m.\u001B[39;49m\u001B[43mexp\u001B[49m\u001B[43m(\u001B[49m\u001B[43mravg\u001B[49m\u001B[43m \u001B[49m\u001B[38;5;241;43m*\u001B[39;49m\u001B[43m \u001B[49m\u001B[43mn\u001B[49m\u001B[43m)\u001B[49m\u001B[43m)\u001B[49m \u001B[38;5;241m-\u001B[39m \u001B[38;5;241m1.0\u001B[39m\n\u001B[1;32m    155\u001B[0m     dts\u001B[38;5;241m.\u001B[39mappend(dt)\n\u001B[1;32m    157\u001B[0m sdev_p \u001B[38;5;241m=\u001B[39m standarddev(dts, bessel\u001B[38;5;241m=\u001B[39m\u001B[38;5;28;01mTrue\u001B[39;00m)\n",
      "\u001B[0;31mZeroDivisionError\u001B[0m: float division by zero"
     ]
    }
   ],
   "source": [
    "import backtrader as bt\n",
    "from backtrader_plotting import Bokeh\n",
    "from backtrader_plotting.schemes import Tradimo\n",
    "# ======================================================================================================================\n",
    "# MAIN\n",
    "# ======================================================================================================================\n",
    "\n",
    "# Create an instance of cerebro\n",
    "cerebro = bt.Cerebro(stdstats=False)\n",
    "\n",
    "# Be selective about what we chart\n",
    "#cerebro.addobserver(bt.observers.Broker)\n",
    "cerebro.addobserver(bt.observers.BuySell)\n",
    "cerebro.addobserver(bt.observers.Value)\n",
    "cerebro.addobserver(bt.observers.DrawDown)\n",
    "cerebro.addobserver(bt.observers.Trades)\n",
    "\n",
    "# Set the investment capital\n",
    "cerebro.broker.setcash(2000)\n",
    "cerebro.broker.setcommission(0.01)\n",
    "\n",
    "# Set position size\n",
    "# cerebro.addsizer(bt.sizers.PercentSizer, percents=100)\n",
    "\n",
    "# Add our strategy\n",
    "# cerebro.addstrategy(MyStrategy )#, rsi_period=14, ema1 = (20),ema2 = (100), ema3 = (200))\n",
    "# cerebro.optstrategy(firstStrategy, rsi_period=14)\n",
    "cerebro.addstrategy(firstStrategy, rsi_period=21, ema1 = (20),ema2 = (100), ema3 = (200))#, rsi_period=14, ema1 = (20),ema2 = (100), ema3 = (200))\n",
    "\n",
    "# cerebro.addstrategy(RSIStrategy, maperiod=14, quantity=0.01, stopLoss=.01, upper=60, lower=25)\n",
    "\n",
    "\n",
    "data = PandasData(dataname=df)\n",
    "cerebro.adddata(data)\n",
    "\n",
    "\n",
    "# Add analyzers\n",
    "cerebro.addanalyzer(bt.analyzers.TradeAnalyzer, _name='ta')\n",
    "cerebro.addanalyzer(bt.analyzers.DrawDown, _name='drawdown')\n",
    "cerebro.addanalyzer(bt.analyzers.SharpeRatio, _name='sharpe', riskfreerate=0.0, annualize=True, timeframe=bt.TimeFrame.Days)\n",
    "cerebro.addanalyzer(bt.analyzers.VWR, _name='vwr')\n",
    "cerebro.addanalyzer(bt.analyzers.SQN, _name='sqn')\n",
    "cerebro.addanalyzer(bt.analyzers.Transactions, _name='txn')\n",
    "# # Run our Backtest\n",
    "backtest = cerebro.run()\n",
    "backtest_results = backtest[0]\n",
    "\n"
   ]
  },
  {
   "cell_type": "code",
   "execution_count": 133,
   "id": "bfd60e4a",
   "metadata": {
    "scrolled": true
   },
   "outputs": [
    {
     "ename": "ImportError",
     "evalue": "cannot import name 'warnings' from 'matplotlib.dates' (/Users/rehman/.conda/envs/test_project/lib/python3.9/site-packages/matplotlib/dates.py)",
     "output_type": "error",
     "traceback": [
      "\u001B[0;31m---------------------------------------------------------------------------\u001B[0m",
      "\u001B[0;31mImportError\u001B[0m                               Traceback (most recent call last)",
      "Input \u001B[0;32mIn [133]\u001B[0m, in \u001B[0;36m<cell line: 1>\u001B[0;34m()\u001B[0m\n\u001B[0;32m----> 1\u001B[0m figure \u001B[38;5;241m=\u001B[39m \u001B[43mcerebro\u001B[49m\u001B[38;5;241;43m.\u001B[39;49m\u001B[43mplot\u001B[49m\u001B[43m(\u001B[49m\u001B[43mstyle\u001B[49m\u001B[43m \u001B[49m\u001B[38;5;241;43m=\u001B[39;49m\u001B[38;5;124;43m'\u001B[39;49m\u001B[38;5;124;43mcandlebars\u001B[39;49m\u001B[38;5;124;43m'\u001B[39;49m\u001B[43m)\u001B[49m[\u001B[38;5;241m0\u001B[39m][\u001B[38;5;241m0\u001B[39m]\n\u001B[1;32m      2\u001B[0m figure\u001B[38;5;241m.\u001B[39msavefig(\u001B[38;5;124m'\u001B[39m\u001B[38;5;124mexample.png\u001B[39m\u001B[38;5;124m'\u001B[39m)\n",
      "File \u001B[0;32m~/.conda/envs/test_project/lib/python3.9/site-packages/backtrader/cerebro.py:974\u001B[0m, in \u001B[0;36mCerebro.plot\u001B[0;34m(self, plotter, numfigs, iplot, start, end, width, height, dpi, tight, use, **kwargs)\u001B[0m\n\u001B[1;32m    971\u001B[0m     \u001B[38;5;28;01mreturn\u001B[39;00m\n\u001B[1;32m    973\u001B[0m \u001B[38;5;28;01mif\u001B[39;00m \u001B[38;5;129;01mnot\u001B[39;00m plotter:\n\u001B[0;32m--> 974\u001B[0m     \u001B[38;5;28;01mfrom\u001B[39;00m \u001B[38;5;21;01m.\u001B[39;00m \u001B[38;5;28;01mimport\u001B[39;00m plot\n\u001B[1;32m    975\u001B[0m     \u001B[38;5;28;01mif\u001B[39;00m \u001B[38;5;28mself\u001B[39m\u001B[38;5;241m.\u001B[39mp\u001B[38;5;241m.\u001B[39moldsync:\n\u001B[1;32m    976\u001B[0m         plotter \u001B[38;5;241m=\u001B[39m plot\u001B[38;5;241m.\u001B[39mPlot_OldSync(\u001B[38;5;241m*\u001B[39m\u001B[38;5;241m*\u001B[39mkwargs)\n",
      "File \u001B[0;32m~/.conda/envs/test_project/lib/python3.9/site-packages/backtrader/plot/__init__.py:42\u001B[0m, in \u001B[0;36m<module>\u001B[0;34m\u001B[0m\n\u001B[1;32m     36\u001B[0m     \u001B[38;5;28;01mexcept\u001B[39;00m:\n\u001B[1;32m     37\u001B[0m         \u001B[38;5;66;03m# if another backend has already been loaded, an exception will be\u001B[39;00m\n\u001B[1;32m     38\u001B[0m         \u001B[38;5;66;03m# generated and this can be skipped\u001B[39;00m\n\u001B[1;32m     39\u001B[0m         \u001B[38;5;28;01mpass\u001B[39;00m\n\u001B[0;32m---> 42\u001B[0m \u001B[38;5;28;01mfrom\u001B[39;00m \u001B[38;5;21;01m.\u001B[39;00m\u001B[38;5;21;01mplot\u001B[39;00m \u001B[38;5;28;01mimport\u001B[39;00m Plot, Plot_OldSync\n\u001B[1;32m     43\u001B[0m \u001B[38;5;28;01mfrom\u001B[39;00m \u001B[38;5;21;01m.\u001B[39;00m\u001B[38;5;21;01mscheme\u001B[39;00m \u001B[38;5;28;01mimport\u001B[39;00m PlotScheme\n",
      "File \u001B[0;32m~/.conda/envs/test_project/lib/python3.9/site-packages/backtrader/plot/plot.py:44\u001B[0m, in \u001B[0;36m<module>\u001B[0;34m\u001B[0m\n\u001B[1;32m     42\u001B[0m \u001B[38;5;28;01mfrom\u001B[39;00m \u001B[38;5;21;01m.\u001B[39;00m\u001B[38;5;21;01mfinance\u001B[39;00m \u001B[38;5;28;01mimport\u001B[39;00m plot_candlestick, plot_ohlc, plot_volume, plot_lineonclose\n\u001B[1;32m     43\u001B[0m \u001B[38;5;28;01mfrom\u001B[39;00m \u001B[38;5;21;01m.\u001B[39;00m\u001B[38;5;21;01mformatters\u001B[39;00m \u001B[38;5;28;01mimport\u001B[39;00m (MyVolFormatter, MyDateFormatter, getlocator)\n\u001B[0;32m---> 44\u001B[0m \u001B[38;5;28;01mfrom\u001B[39;00m \u001B[38;5;21;01m.\u001B[39;00m \u001B[38;5;28;01mimport\u001B[39;00m locator \u001B[38;5;28;01mas\u001B[39;00m loc\n\u001B[1;32m     45\u001B[0m \u001B[38;5;28;01mfrom\u001B[39;00m \u001B[38;5;21;01m.\u001B[39;00m\u001B[38;5;21;01mmulticursor\u001B[39;00m \u001B[38;5;28;01mimport\u001B[39;00m MultiCursor\n\u001B[1;32m     46\u001B[0m \u001B[38;5;28;01mfrom\u001B[39;00m \u001B[38;5;21;01m.\u001B[39;00m\u001B[38;5;21;01mscheme\u001B[39;00m \u001B[38;5;28;01mimport\u001B[39;00m PlotScheme\n",
      "File \u001B[0;32m~/.conda/envs/test_project/lib/python3.9/site-packages/backtrader/plot/locator.py:35\u001B[0m, in \u001B[0;36m<module>\u001B[0;34m\u001B[0m\n\u001B[1;32m     32\u001B[0m \u001B[38;5;28;01mfrom\u001B[39;00m \u001B[38;5;21;01mmatplotlib\u001B[39;00m\u001B[38;5;21;01m.\u001B[39;00m\u001B[38;5;21;01mdates\u001B[39;00m \u001B[38;5;28;01mimport\u001B[39;00m RRuleLocator \u001B[38;5;28;01mas\u001B[39;00m RRLocator\n\u001B[1;32m     33\u001B[0m \u001B[38;5;28;01mfrom\u001B[39;00m \u001B[38;5;21;01mmatplotlib\u001B[39;00m\u001B[38;5;21;01m.\u001B[39;00m\u001B[38;5;21;01mdates\u001B[39;00m \u001B[38;5;28;01mimport\u001B[39;00m AutoDateFormatter \u001B[38;5;28;01mas\u001B[39;00m ADFormatter\n\u001B[0;32m---> 35\u001B[0m \u001B[38;5;28;01mfrom\u001B[39;00m \u001B[38;5;21;01mmatplotlib\u001B[39;00m\u001B[38;5;21;01m.\u001B[39;00m\u001B[38;5;21;01mdates\u001B[39;00m \u001B[38;5;28;01mimport\u001B[39;00m (HOURS_PER_DAY, MIN_PER_HOUR, SEC_PER_MIN,\n\u001B[1;32m     36\u001B[0m                               MONTHS_PER_YEAR, DAYS_PER_WEEK,\n\u001B[1;32m     37\u001B[0m                               SEC_PER_HOUR, SEC_PER_DAY,\n\u001B[1;32m     38\u001B[0m                               num2date, rrulewrapper, YearLocator,\n\u001B[1;32m     39\u001B[0m                               MicrosecondLocator, warnings)\n\u001B[1;32m     41\u001B[0m \u001B[38;5;28;01mfrom\u001B[39;00m \u001B[38;5;21;01mdateutil\u001B[39;00m\u001B[38;5;21;01m.\u001B[39;00m\u001B[38;5;21;01mrelativedelta\u001B[39;00m \u001B[38;5;28;01mimport\u001B[39;00m relativedelta\n\u001B[1;32m     42\u001B[0m \u001B[38;5;28;01mimport\u001B[39;00m \u001B[38;5;21;01mnumpy\u001B[39;00m \u001B[38;5;28;01mas\u001B[39;00m \u001B[38;5;21;01mnp\u001B[39;00m\n",
      "\u001B[0;31mImportError\u001B[0m: cannot import name 'warnings' from 'matplotlib.dates' (/Users/rehman/.conda/envs/test_project/lib/python3.9/site-packages/matplotlib/dates.py)"
     ]
    }
   ],
   "source": [
    "figure = cerebro.plot(style ='candlebars')[0][0]\n",
    "figure.savefig('example.png')"
   ]
  },
  {
   "cell_type": "code",
   "execution_count": 127,
   "id": "2c5c2c91",
   "metadata": {},
   "outputs": [
    {
     "name": "stdout",
     "output_type": "stream",
     "text": [
      "Backtesting Results\n"
     ]
    },
    {
     "ename": "KeyError",
     "evalue": "",
     "output_type": "error",
     "traceback": [
      "\u001B[0;31m---------------------------------------------------------------------------\u001B[0m",
      "\u001B[0;31mKeyError\u001B[0m                                  Traceback (most recent call last)",
      "Input \u001B[0;32mIn [127]\u001B[0m, in \u001B[0;36m<cell line: 1>\u001B[0;34m()\u001B[0m\n\u001B[0;32m----> 1\u001B[0m \u001B[43mprintTradeAnalysis\u001B[49m\u001B[43m(\u001B[49m\u001B[43mcerebro\u001B[49m\u001B[43m,\u001B[49m\u001B[43mbacktest_results\u001B[49m\u001B[38;5;241;43m.\u001B[39;49m\u001B[43manalyzers\u001B[49m\u001B[43m)\u001B[49m\n",
      "Input \u001B[0;32mIn [14]\u001B[0m, in \u001B[0;36mprintTradeAnalysis\u001B[0;34m(cerebro, analyzers)\u001B[0m\n\u001B[1;32m      3\u001B[0m \u001B[38;5;28;01mif\u001B[39;00m \u001B[38;5;28mhasattr\u001B[39m(analyzers, \u001B[38;5;124m'\u001B[39m\u001B[38;5;124mta\u001B[39m\u001B[38;5;124m'\u001B[39m):\n\u001B[1;32m      4\u001B[0m     ta \u001B[38;5;241m=\u001B[39m analyzers\u001B[38;5;241m.\u001B[39mta\u001B[38;5;241m.\u001B[39mget_analysis()\n\u001B[0;32m----> 6\u001B[0m     openTotal         \u001B[38;5;241m=\u001B[39m \u001B[43mta\u001B[49m\u001B[38;5;241;43m.\u001B[39;49m\u001B[43mtotal\u001B[49m\u001B[38;5;241;43m.\u001B[39;49m\u001B[43mopen\u001B[49m          \n\u001B[1;32m      7\u001B[0m     closedTotal       \u001B[38;5;241m=\u001B[39m ta\u001B[38;5;241m.\u001B[39mtotal\u001B[38;5;241m.\u001B[39mclosed        \n\u001B[1;32m      8\u001B[0m     wonTotal          \u001B[38;5;241m=\u001B[39m ta\u001B[38;5;241m.\u001B[39mwon\u001B[38;5;241m.\u001B[39mtotal           \n",
      "File \u001B[0;32m~/.conda/envs/test_project/lib/python3.9/site-packages/backtrader/utils/autodict.py:104\u001B[0m, in \u001B[0;36mAutoOrderedDict.__getattr__\u001B[0;34m(self, key)\u001B[0m\n\u001B[1;32m    101\u001B[0m \u001B[38;5;28;01mif\u001B[39;00m key\u001B[38;5;241m.\u001B[39mstartswith(\u001B[38;5;124m'\u001B[39m\u001B[38;5;124m_\u001B[39m\u001B[38;5;124m'\u001B[39m):\n\u001B[1;32m    102\u001B[0m     \u001B[38;5;28;01mraise\u001B[39;00m \u001B[38;5;167;01mAttributeError\u001B[39;00m\n\u001B[0;32m--> 104\u001B[0m \u001B[38;5;28;01mreturn\u001B[39;00m \u001B[38;5;28;43mself\u001B[39;49m\u001B[43m[\u001B[49m\u001B[43mkey\u001B[49m\u001B[43m]\u001B[49m\n",
      "File \u001B[0;32m~/.conda/envs/test_project/lib/python3.9/site-packages/backtrader/utils/autodict.py:94\u001B[0m, in \u001B[0;36mAutoOrderedDict.__missing__\u001B[0;34m(self, key)\u001B[0m\n\u001B[1;32m     92\u001B[0m \u001B[38;5;28;01mdef\u001B[39;00m \u001B[38;5;21m__missing__\u001B[39m(\u001B[38;5;28mself\u001B[39m, key):\n\u001B[1;32m     93\u001B[0m     \u001B[38;5;28;01mif\u001B[39;00m \u001B[38;5;28mself\u001B[39m\u001B[38;5;241m.\u001B[39m_closed:\n\u001B[0;32m---> 94\u001B[0m         \u001B[38;5;28;01mraise\u001B[39;00m \u001B[38;5;167;01mKeyError\u001B[39;00m\n\u001B[1;32m     96\u001B[0m     \u001B[38;5;66;03m# value = self[key] = type(self)()\u001B[39;00m\n\u001B[1;32m     97\u001B[0m     value \u001B[38;5;241m=\u001B[39m \u001B[38;5;28mself\u001B[39m[key] \u001B[38;5;241m=\u001B[39m AutoOrderedDict()\n",
      "\u001B[0;31mKeyError\u001B[0m: "
     ]
    }
   ],
   "source": [
    "printTradeAnalysis(cerebro,backtest_results.analyzers)"
   ]
  },
  {
   "cell_type": "code",
   "execution_count": 89,
   "id": "467f7860",
   "metadata": {},
   "outputs": [],
   "source": []
  },
  {
   "cell_type": "code",
   "execution_count": 12,
   "id": "6db2e641",
   "metadata": {},
   "outputs": [],
   "source": [
    "# cerebro.optstrategy(firstStrategy,  rsi_period=14, ema1 = (10,20),ema2 = (50,100), ema3 = (200))\n",
    "# opt_runs = cerebro.run(maxcpus = 1)\n",
    "\n",
    "# # Generate results list\n",
    "# final_results_list = []\n",
    "# for run in opt_runs:\n",
    "#     for strategy in run:\n",
    "#         value = round(strategy.broker.get_value(),2)\n",
    "#         PnL = round(value - startcash,2)\n",
    "#         period = strategy.params.period\n",
    "#         final_results_list.append([period,PnL])\n",
    "\n",
    "# #Sort Results List\n",
    "# by_period = sorted(final_results_list, key=lambda x: x[0])\n",
    "# by_PnL = sorted(final_results_list, key=lambda x: x[1], reverse=True)\n",
    "\n",
    "# #Print results\n",
    "# print('Results: Ordered by period:')\n",
    "# for result in by_period:\n",
    "#     print('Period: {}, PnL: {}'.format(result[0], result[1]))\n",
    "# print('Results: Ordered by Profit:')\n",
    "# for result in by_PnL:\n",
    "#     print('Period: {}, PnL: {}'.format(result[0], result[1]))"
   ]
  },
  {
   "cell_type": "code",
   "execution_count": null,
   "id": "b491141c",
   "metadata": {},
   "outputs": [],
   "source": []
  },
  {
   "cell_type": "code",
   "execution_count": null,
   "id": "6db6340d",
   "metadata": {},
   "outputs": [],
   "source": []
  },
  {
   "cell_type": "code",
   "execution_count": null,
   "id": "031eab43",
   "metadata": {},
   "outputs": [],
   "source": []
  },
  {
   "cell_type": "code",
   "execution_count": null,
   "id": "56aaa432",
   "metadata": {},
   "outputs": [],
   "source": []
  },
  {
   "cell_type": "code",
   "execution_count": null,
   "id": "c3a986a0",
   "metadata": {},
   "outputs": [],
   "source": []
  },
  {
   "cell_type": "code",
   "execution_count": null,
   "id": "aed30974",
   "metadata": {},
   "outputs": [],
   "source": []
  },
  {
   "cell_type": "code",
   "execution_count": null,
   "id": "9efedfbc",
   "metadata": {},
   "outputs": [],
   "source": []
  }
 ],
 "metadata": {
  "kernelspec": {
   "name": "python3",
   "language": "python",
   "display_name": "Python 3 (ipykernel)"
  },
  "language_info": {
   "codemirror_mode": {
    "name": "ipython",
    "version": 3
   },
   "file_extension": ".py",
   "mimetype": "text/x-python",
   "name": "python",
   "nbconvert_exporter": "python",
   "pygments_lexer": "ipython3",
   "version": "3.9.7"
  },
  "vscode": {
   "interpreter": {
    "hash": "b5d177fd2de7772697dfbb76156cda4c4cad6e8896e073bd0e8cb3b1ded7618c"
   }
  }
 },
 "nbformat": 4,
 "nbformat_minor": 5
}